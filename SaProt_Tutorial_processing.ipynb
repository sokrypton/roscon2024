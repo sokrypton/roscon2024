{
  "nbformat": 4,
  "nbformat_minor": 0,
  "metadata": {
    "colab": {
      "provenance": [],
      "include_colab_link": true
    },
    "kernelspec": {
      "name": "python3",
      "display_name": "Python 3"
    },
    "language_info": {
      "name": "python"
    }
  },
  "cells": [
    {
      "cell_type": "markdown",
      "metadata": {
        "id": "view-in-github",
        "colab_type": "text"
      },
      "source": [
        "<a href=\"https://colab.research.google.com/github/sokrypton/roscon2024/blob/main/SaProt_Tutorial_processing.ipynb\" target=\"_parent\"><img src=\"https://colab.research.google.com/assets/colab-badge.svg\" alt=\"Open In Colab\"/></a>"
      ]
    },
    {
      "cell_type": "code",
      "execution_count": null,
      "metadata": {
        "id": "ArTm1owCHvvh"
      },
      "outputs": [],
      "source": [
        "!git clone https://github.com/westlake-repl/SaprotHub.git\n",
        "\n",
        "import os\n",
        "# Check whether the server is local or from google cloud\n",
        "root_dir = os.getcwd()\n",
        "\n",
        "import sys\n",
        "sys.path.append(f\"{root_dir}/SaprotHub\")\n",
        "import saprot\n",
        "print(\"SaProt is installed successfully!\")\n",
        "os.system(f\"chmod +x {root_dir}/SaprotHub/bin/*\")\n",
        "import pandas as pd\n",
        "from saprot.utils.foldseek_util import get_struc_seq\n",
        "import pandas as pd\n",
        "from tqdm import tqdm\n",
        "from pathlib import Path\n",
        "import gdown\n",
        "\n",
        "FOLDSEEK_PATH = Path(f\"{root_dir}/SaprotHub/bin/foldseek\")"
      ]
    },
    {
      "cell_type": "code",
      "source": [
        "structure_url = \"https://drive.google.com/file/d/1fkOrLdYEAw67pIyjJh0W0jRNhhicIvHY/view?usp=drive_link\"\n",
        "structure_output_path = '/content/AF2_predicted_best_structures.zip'\n",
        "gdown.download(structure_url, structure_output_path, quiet=False,fuzzy=True)"
      ],
      "metadata": {
        "id": "OCf2nsb0_Uyf"
      },
      "execution_count": null,
      "outputs": []
    },
    {
      "cell_type": "code",
      "source": [
        "sequence_url = \"https://drive.google.com/file/d/1AkHwAKl-S-lyb2C5GANPOx0UMqvQ-PIE/view?usp=drive_link\"\n",
        "sequence_output_path = '/content/thermomut_all.csv'\n",
        "gdown.download(sequence_url, sequence_output_path, quiet=False,fuzzy=True)"
      ],
      "metadata": {
        "id": "lv5flpTu_bgc"
      },
      "execution_count": null,
      "outputs": []
    },
    {
      "cell_type": "code",
      "source": [
        "!unzip /content/AF2_predicted_best_structures.zip -d /content/SaprotHub/"
      ],
      "metadata": {
        "id": "8sK9Fsdq92gh"
      },
      "execution_count": null,
      "outputs": []
    },
    {
      "cell_type": "code",
      "source": [
        "def get_sa(directory, name, mut_type, position, wild_type, mutation, minus_1= False, chain='A'):\n",
        "    pdbs=directory\n",
        "    index = name.find(\".pdb\") + len(\".pdb\")\n",
        "    name = name[:index]\n",
        "    pdb_file = os.path.join(pdbs, name)\n",
        "    process_id = os.getpid()\n",
        "    struct_seq_data = get_struc_seq(FOLDSEEK_PATH, pdb_file, [chain], process_id)\n",
        "\n",
        "    if chain not in struct_seq_data:\n",
        "        print(f\"Chain {chain} not found in structure sequence data for\", name)\n",
        "        return None\n",
        "\n",
        "    parsed_seqs = struct_seq_data[chain]\n",
        "    seq, foldseek_seq, combined_seq = parsed_seqs\n",
        "\n",
        "    try:\n",
        "\n",
        "        if  mut_type ==True:\n",
        "            return combined_seq\n",
        "        else:\n",
        "            if minus_1 ==True:\n",
        "                pdb_idx = int(position)-1\n",
        "            else:\n",
        "                pdb_idx = int(position)\n",
        "            assert combined_seq[pdb_idx*2] == wild_type\n",
        "            combined_seq_list = list(combined_seq)\n",
        "            combined_seq_list[pdb_idx*2] = mutation\n",
        "            combined_seq= ''.join(combined_seq_list)\n",
        "\n",
        "            return combined_seq\n",
        "    except:\n",
        "        print(os.path.join(pdbs, name))\n",
        "        return None\n"
      ],
      "metadata": {
        "id": "pwKWIj6nINei"
      },
      "execution_count": null,
      "outputs": []
    },
    {
      "cell_type": "code",
      "source": [
        "df_training = pd.read_csv('/content/thermomut_all.csv')\n",
        "df_training = df_training.rename(columns={'aa_seq': 'Sequence', 'ddG': 'label'})\n",
        "df_training['stage'] = 'test'\n",
        "tqdm.pandas(desc=\"Processing SA data\")\n",
        "\n",
        "df_training['sa'] = df_training.progress_apply(\n",
        "    lambda row: get_sa('/content/SaprotHub/AF2_predicted_best_structures', row['name'], row['WT'], row['position'], row['wild_type'], row['mutation'],  minus_1 =False),\n",
        "    axis=1\n",
        ")\n",
        "\n",
        "df_training = df_training.drop(columns=['Sequence'])\n",
        "df_training = df_training.rename(columns={'sa': 'Sequence'})\n",
        "df_training = df_training[['name', 'Sequence', 'label', 'stage']]\n",
        "df_training.to_csv('/content/thermomut_all_ddg_test.csv')"
      ],
      "metadata": {
        "id": "oezGkCFB5li6"
      },
      "execution_count": null,
      "outputs": []
    }
  ]
}